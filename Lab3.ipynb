{
 "cells": [
  {
   "cell_type": "markdown",
   "metadata": {},
   "source": [
    "# Lab-3 by Vipul Mehra\n",
    "# Logistic Regression"
   ]
  },
  {
   "cell_type": "code",
   "execution_count": 98,
   "metadata": {
    "collapsed": true
   },
   "outputs": [],
   "source": [
    "# import numpy and pandas for dataframe and manipulation of data\n",
    "import numpy as np\n",
    "import pandas as pd"
   ]
  },
  {
   "cell_type": "markdown",
   "metadata": {},
   "source": [
    "Examining the dataset before we proceed any further"
   ]
  },
  {
   "cell_type": "code",
   "execution_count": 99,
   "metadata": {},
   "outputs": [
    {
     "name": "stdout",
     "output_type": "stream",
     "text": [
      "\"\",\"default\",\"student\",\"balance\",\"income\"\r\n",
      "\"1\",\"No\",\"No\",729.526495207286,44361.6250742669\r\n",
      "\"2\",\"No\",\"Yes\",817.180406555498,12106.1347003149\r\n",
      "\"3\",\"No\",\"No\",1073.54916401173,31767.1389473999\r\n",
      "\"4\",\"No\",\"No\",529.250604745278,35704.4939350781\r\n",
      "\"5\",\"No\",\"No\",785.655882930501,38463.4958787229\r\n",
      "\"6\",\"No\",\"Yes\",919.5885304745,7491.55857182746\r\n",
      "\"7\",\"No\",\"No\",825.513330517201,24905.2265775235\r\n",
      "\"8\",\"No\",\"Yes\",808.667504297266,17600.4513435869\r\n",
      "\"9\",\"No\",\"No\",1161.05785403132,37468.5292875375\r\n"
     ]
    }
   ],
   "source": [
    "# viewing the first 10 lines of Default.csv\n",
    "!head -n 10 /Users/vipulmehra/Documents/ISTE-780/Labs/Lab-3/Default.csv"
   ]
  },
  {
   "cell_type": "code",
   "execution_count": 100,
   "metadata": {
    "collapsed": true
   },
   "outputs": [],
   "source": [
    "df = pd.read_csv(\"/Users/vipulmehra/Documents/ISTE-780/Labs/Lab-3/Default.csv\", index_col=0)"
   ]
  },
  {
   "cell_type": "code",
   "execution_count": 101,
   "metadata": {},
   "outputs": [
    {
     "data": {
      "text/html": [
       "<div>\n",
       "<style>\n",
       "    .dataframe thead tr:only-child th {\n",
       "        text-align: right;\n",
       "    }\n",
       "\n",
       "    .dataframe thead th {\n",
       "        text-align: left;\n",
       "    }\n",
       "\n",
       "    .dataframe tbody tr th {\n",
       "        vertical-align: top;\n",
       "    }\n",
       "</style>\n",
       "<table border=\"1\" class=\"dataframe\">\n",
       "  <thead>\n",
       "    <tr style=\"text-align: right;\">\n",
       "      <th></th>\n",
       "      <th>default</th>\n",
       "      <th>student</th>\n",
       "      <th>balance</th>\n",
       "      <th>income</th>\n",
       "    </tr>\n",
       "  </thead>\n",
       "  <tbody>\n",
       "    <tr>\n",
       "      <th>1</th>\n",
       "      <td>No</td>\n",
       "      <td>No</td>\n",
       "      <td>729.526495</td>\n",
       "      <td>44361.625074</td>\n",
       "    </tr>\n",
       "    <tr>\n",
       "      <th>2</th>\n",
       "      <td>No</td>\n",
       "      <td>Yes</td>\n",
       "      <td>817.180407</td>\n",
       "      <td>12106.134700</td>\n",
       "    </tr>\n",
       "    <tr>\n",
       "      <th>3</th>\n",
       "      <td>No</td>\n",
       "      <td>No</td>\n",
       "      <td>1073.549164</td>\n",
       "      <td>31767.138947</td>\n",
       "    </tr>\n",
       "    <tr>\n",
       "      <th>4</th>\n",
       "      <td>No</td>\n",
       "      <td>No</td>\n",
       "      <td>529.250605</td>\n",
       "      <td>35704.493935</td>\n",
       "    </tr>\n",
       "    <tr>\n",
       "      <th>5</th>\n",
       "      <td>No</td>\n",
       "      <td>No</td>\n",
       "      <td>785.655883</td>\n",
       "      <td>38463.495879</td>\n",
       "    </tr>\n",
       "  </tbody>\n",
       "</table>\n",
       "</div>"
      ],
      "text/plain": [
       "  default student      balance        income\n",
       "1      No      No   729.526495  44361.625074\n",
       "2      No     Yes   817.180407  12106.134700\n",
       "3      No      No  1073.549164  31767.138947\n",
       "4      No      No   529.250605  35704.493935\n",
       "5      No      No   785.655883  38463.495879"
      ]
     },
     "execution_count": 101,
     "metadata": {},
     "output_type": "execute_result"
    }
   ],
   "source": [
    "# displaying 5 records/observations in the dataframe\n",
    "df[:5]"
   ]
  },
  {
   "cell_type": "code",
   "execution_count": 102,
   "metadata": {},
   "outputs": [
    {
     "data": {
      "text/plain": [
       "default     object\n",
       "student     object\n",
       "balance    float64\n",
       "income     float64\n",
       "dtype: object"
      ]
     },
     "execution_count": 102,
     "metadata": {},
     "output_type": "execute_result"
    }
   ],
   "source": [
    "# examining the type of columns we have in this dataframe\n",
    "df.dtypes"
   ]
  },
  {
   "cell_type": "markdown",
   "metadata": {},
   "source": [
    "Extracting 2 predictors from the dataframe Income and Balance to build our model"
   ]
  },
  {
   "cell_type": "code",
   "execution_count": 103,
   "metadata": {},
   "outputs": [
    {
     "data": {
      "text/html": [
       "<div>\n",
       "<style>\n",
       "    .dataframe thead tr:only-child th {\n",
       "        text-align: right;\n",
       "    }\n",
       "\n",
       "    .dataframe thead th {\n",
       "        text-align: left;\n",
       "    }\n",
       "\n",
       "    .dataframe tbody tr th {\n",
       "        vertical-align: top;\n",
       "    }\n",
       "</style>\n",
       "<table border=\"1\" class=\"dataframe\">\n",
       "  <thead>\n",
       "    <tr style=\"text-align: right;\">\n",
       "      <th></th>\n",
       "      <th>income</th>\n",
       "      <th>balance</th>\n",
       "    </tr>\n",
       "  </thead>\n",
       "  <tbody>\n",
       "    <tr>\n",
       "      <th>1</th>\n",
       "      <td>44361.625074</td>\n",
       "      <td>729.526495</td>\n",
       "    </tr>\n",
       "    <tr>\n",
       "      <th>2</th>\n",
       "      <td>12106.134700</td>\n",
       "      <td>817.180407</td>\n",
       "    </tr>\n",
       "    <tr>\n",
       "      <th>3</th>\n",
       "      <td>31767.138947</td>\n",
       "      <td>1073.549164</td>\n",
       "    </tr>\n",
       "    <tr>\n",
       "      <th>4</th>\n",
       "      <td>35704.493935</td>\n",
       "      <td>529.250605</td>\n",
       "    </tr>\n",
       "    <tr>\n",
       "      <th>5</th>\n",
       "      <td>38463.495879</td>\n",
       "      <td>785.655883</td>\n",
       "    </tr>\n",
       "  </tbody>\n",
       "</table>\n",
       "</div>"
      ],
      "text/plain": [
       "         income      balance\n",
       "1  44361.625074   729.526495\n",
       "2  12106.134700   817.180407\n",
       "3  31767.138947  1073.549164\n",
       "4  35704.493935   529.250605\n",
       "5  38463.495879   785.655883"
      ]
     },
     "execution_count": 103,
     "metadata": {},
     "output_type": "execute_result"
    }
   ],
   "source": [
    "# default column \n",
    "dft = df['default']\n",
    "# columns required \n",
    "columns = ['income', 'balance']\n",
    "# creating a new dataframe with the required columns\n",
    "df = df[columns]\n",
    "# get 5 rows\n",
    "df[:5]"
   ]
  },
  {
   "cell_type": "code",
   "execution_count": 104,
   "metadata": {},
   "outputs": [
    {
     "data": {
      "text/plain": [
       "dtype('int64')"
      ]
     },
     "execution_count": 104,
     "metadata": {},
     "output_type": "execute_result"
    }
   ],
   "source": [
    "# factorizing the default as it of type object\n",
    "Y = pd.factorize(dft)[0]\n",
    "# checking the type of default column now\n",
    "Y.dtype"
   ]
  },
  {
   "cell_type": "code",
   "execution_count": 105,
   "metadata": {
    "collapsed": true
   },
   "outputs": [],
   "source": [
    "# creating training set of 8000 observations\n",
    "X_train = df[:8000]\n",
    "Y_train = Y[:8000]\n",
    "# creating testing set of 8000 observations\n",
    "X_test = df[8000:]\n",
    "Y_test = Y[8000:]"
   ]
  },
  {
   "cell_type": "code",
   "execution_count": 106,
   "metadata": {
    "collapsed": true
   },
   "outputs": [],
   "source": [
    "from sklearn.linear_model import LogisticRegression\n",
    "lr = LogisticRegression()\n",
    "lr.fit(X_train, Y_train)\n",
    "y_train_predictions = lr.predict(X_train)\n",
    "y_test_predictions = lr.predict(X_test)\n",
    "#y_train_probs = lr.predict_proba(X_train)[:,1]>0.5\n",
    "#y_test_probs = lr.predict_proba(X_test)[:,1]>0.5"
   ]
  },
  {
   "cell_type": "code",
   "execution_count": 107,
   "metadata": {},
   "outputs": [
    {
     "data": {
      "text/plain": [
       "0.96650000000000003"
      ]
     },
     "execution_count": 107,
     "metadata": {},
     "output_type": "execute_result"
    }
   ],
   "source": [
    "# calculating training accuracy \n",
    "(y_train_predictions == Y_train).sum().astype(float)/Y_train.shape[0]"
   ]
  },
  {
   "cell_type": "code",
   "execution_count": 108,
   "metadata": {
    "scrolled": true
   },
   "outputs": [
    {
     "data": {
      "text/plain": [
       "0.96599999999999997"
      ]
     },
     "execution_count": 108,
     "metadata": {},
     "output_type": "execute_result"
    }
   ],
   "source": [
    "# calculating test accuracy\n",
    "(y_test_predictions == Y_test).sum().astype(float)/Y_test.shape[0]"
   ]
  },
  {
   "cell_type": "code",
   "execution_count": 109,
   "metadata": {
    "scrolled": true
   },
   "outputs": [
    {
     "name": "stdout",
     "output_type": "stream",
     "text": [
      "Test Accuracy\n",
      "0.966\n",
      "             precision    recall  f1-score   support\n",
      "\n",
      "          0       0.97      1.00      0.98      1933\n",
      "          1       0.00      0.00      0.00        67\n",
      "\n",
      "avg / total       0.93      0.97      0.95      2000\n",
      "\n"
     ]
    }
   ],
   "source": [
    "from sklearn.metrics import accuracy_score\n",
    "from sklearn.metrics import classification_report\n",
    "print \"Test Accuracy\" \n",
    "print accuracy_score(Y_test, y_test_predictions)\n",
    "print classification_report(Y_test, y_test_predictions)"
   ]
  },
  {
   "cell_type": "code",
   "execution_count": 110,
   "metadata": {},
   "outputs": [
    {
     "name": "stdout",
     "output_type": "stream",
     "text": [
      "Train Accuracy\n",
      "0.9665\n",
      "             precision    recall  f1-score   support\n",
      "\n",
      "          0       0.97      1.00      0.98      7734\n",
      "          1       0.00      0.00      0.00       266\n",
      "\n",
      "avg / total       0.93      0.97      0.95      8000\n",
      "\n"
     ]
    }
   ],
   "source": [
    "print \"Train Accuracy\"\n",
    "print accuracy_score(Y_train, y_train_predictions)\n",
    "print classification_report(Y_train, y_train_predictions)"
   ]
  },
  {
   "cell_type": "markdown",
   "metadata": {},
   "source": [
    "# Linear Discriminant Analysis"
   ]
  },
  {
   "cell_type": "code",
   "execution_count": 111,
   "metadata": {
    "collapsed": true
   },
   "outputs": [],
   "source": [
    "from sklearn.discriminant_analysis import LinearDiscriminantAnalysis as LDA\n",
    "ld = LDA()\n",
    "ld.fit(X_train, Y_train)\n",
    "y_ld_test_pred = ld.predict(X_test)\n",
    "y_ld_train_pred = ld.predict(X_train)"
   ]
  },
  {
   "cell_type": "code",
   "execution_count": 112,
   "metadata": {},
   "outputs": [
    {
     "name": "stdout",
     "output_type": "stream",
     "text": [
      "Test Accuracy\n",
      "0.9745\n",
      "             precision    recall  f1-score   support\n",
      "\n",
      "          0       0.98      1.00      0.99      1933\n",
      "          1       0.86      0.28      0.43        67\n",
      "\n",
      "avg / total       0.97      0.97      0.97      2000\n",
      "\n"
     ]
    }
   ],
   "source": [
    "print \"Test Accuracy\" \n",
    "print accuracy_score(Y_test, y_ld_test_pred)\n",
    "print classification_report(Y_test, y_ld_test_pred)"
   ]
  },
  {
   "cell_type": "code",
   "execution_count": 113,
   "metadata": {},
   "outputs": [
    {
     "name": "stdout",
     "output_type": "stream",
     "text": [
      "Train Accuracy\n",
      "0.972375\n",
      "             precision    recall  f1-score   support\n",
      "\n",
      "          0       0.97      1.00      0.99      7734\n",
      "          1       0.78      0.23      0.36       266\n",
      "\n",
      "avg / total       0.97      0.97      0.97      8000\n",
      "\n"
     ]
    }
   ],
   "source": [
    "print \"Train Accuracy\"\n",
    "print accuracy_score(Y_train, y_ld_train_pred)\n",
    "print classification_report(Y_train, y_ld_train_pred)"
   ]
  },
  {
   "cell_type": "markdown",
   "metadata": {},
   "source": [
    "# K-Nearest Neighbors"
   ]
  },
  {
   "cell_type": "code",
   "execution_count": 114,
   "metadata": {
    "collapsed": true
   },
   "outputs": [],
   "source": [
    "from sklearn.neighbors import KNeighborsClassifier as KNN"
   ]
  },
  {
   "cell_type": "markdown",
   "metadata": {},
   "source": [
    "## With K = 1 "
   ]
  },
  {
   "cell_type": "code",
   "execution_count": 115,
   "metadata": {},
   "outputs": [],
   "source": [
    "knn = KNN(n_neighbors=1)\n",
    "knn.fit(X_train, Y_train)\n",
    "y_knn_test_pred = knn.predict(X_test)\n",
    "y_knn_train_pred = knn.predict(X_train)"
   ]
  },
  {
   "cell_type": "code",
   "execution_count": 116,
   "metadata": {},
   "outputs": [
    {
     "name": "stdout",
     "output_type": "stream",
     "text": [
      "Test Accuracy\n",
      "0.9565\n",
      "             precision    recall  f1-score   support\n",
      "\n",
      "          0       0.97      0.98      0.98      1933\n",
      "          1       0.32      0.27      0.29        67\n",
      "\n",
      "avg / total       0.95      0.96      0.95      2000\n",
      "\n"
     ]
    }
   ],
   "source": [
    "print \"Test Accuracy\" \n",
    "print accuracy_score(Y_test, y_knn_test_pred)\n",
    "print classification_report(Y_test, y_knn_test_pred)"
   ]
  },
  {
   "cell_type": "code",
   "execution_count": 117,
   "metadata": {},
   "outputs": [
    {
     "name": "stdout",
     "output_type": "stream",
     "text": [
      "Train Accuracy\n",
      "1.0\n",
      "             precision    recall  f1-score   support\n",
      "\n",
      "          0       1.00      1.00      1.00      7734\n",
      "          1       1.00      1.00      1.00       266\n",
      "\n",
      "avg / total       1.00      1.00      1.00      8000\n",
      "\n"
     ]
    }
   ],
   "source": [
    "print \"Train Accuracy\"\n",
    "print accuracy_score(Y_train, y_knn_train_pred)\n",
    "print classification_report(Y_train, y_knn_train_pred)"
   ]
  },
  {
   "cell_type": "markdown",
   "metadata": {},
   "source": [
    "## With K = 3"
   ]
  },
  {
   "cell_type": "code",
   "execution_count": 118,
   "metadata": {
    "collapsed": true
   },
   "outputs": [],
   "source": [
    "knn3 = KNN(n_neighbors=3)\n",
    "knn3.fit(X_train, Y_train)\n",
    "y_knn3_test_pred = knn3.predict(X_test)\n",
    "y_knn3_train_pred = knn3.predict(X_train)"
   ]
  },
  {
   "cell_type": "code",
   "execution_count": 119,
   "metadata": {},
   "outputs": [
    {
     "name": "stdout",
     "output_type": "stream",
     "text": [
      "Test Accuracy\n",
      "0.968\n",
      "             precision    recall  f1-score   support\n",
      "\n",
      "          0       0.97      0.99      0.98      1933\n",
      "          1       0.56      0.22      0.32        67\n",
      "\n",
      "avg / total       0.96      0.97      0.96      2000\n",
      "\n"
     ]
    }
   ],
   "source": [
    "print \"Test Accuracy\" \n",
    "print accuracy_score(Y_test, y_knn3_test_pred)\n",
    "print classification_report(Y_test, y_knn3_test_pred)"
   ]
  },
  {
   "cell_type": "code",
   "execution_count": 120,
   "metadata": {},
   "outputs": [
    {
     "name": "stdout",
     "output_type": "stream",
     "text": [
      "Train Accuracy\n",
      "0.978125\n",
      "             precision    recall  f1-score   support\n",
      "\n",
      "          0       0.98      1.00      0.99      7734\n",
      "          1       0.83      0.43      0.57       266\n",
      "\n",
      "avg / total       0.98      0.98      0.97      8000\n",
      "\n"
     ]
    }
   ],
   "source": [
    "print \"Train Accuracy\"\n",
    "print accuracy_score(Y_train, y_knn3_train_pred)\n",
    "print classification_report(Y_train, y_knn3_train_pred)"
   ]
  },
  {
   "cell_type": "markdown",
   "metadata": {},
   "source": [
    "## With K = 5 which is default"
   ]
  },
  {
   "cell_type": "code",
   "execution_count": 121,
   "metadata": {
    "collapsed": true
   },
   "outputs": [],
   "source": [
    "knn5 = KNN()\n",
    "knn5.fit(X_train, Y_train)\n",
    "y_knn5_test_pred = knn5.predict(X_test)\n",
    "y_knn5_train_pred = knn5.predict(X_train)"
   ]
  },
  {
   "cell_type": "code",
   "execution_count": 122,
   "metadata": {
    "scrolled": true
   },
   "outputs": [
    {
     "name": "stdout",
     "output_type": "stream",
     "text": [
      "Test Accuracy\n",
      "0.968\n",
      "             precision    recall  f1-score   support\n",
      "\n",
      "          0       0.97      0.99      0.98      1933\n",
      "          1       0.57      0.19      0.29        67\n",
      "\n",
      "avg / total       0.96      0.97      0.96      2000\n",
      "\n"
     ]
    }
   ],
   "source": [
    "print \"Test Accuracy\" \n",
    "print accuracy_score(Y_test, y_knn5_test_pred)\n",
    "print classification_report(Y_test, y_knn5_test_pred)"
   ]
  },
  {
   "cell_type": "code",
   "execution_count": 123,
   "metadata": {},
   "outputs": [
    {
     "name": "stdout",
     "output_type": "stream",
     "text": [
      "Train Accuracy\n",
      "0.975125\n",
      "             precision    recall  f1-score   support\n",
      "\n",
      "          0       0.98      1.00      0.99      7734\n",
      "          1       0.84      0.31      0.45       266\n",
      "\n",
      "avg / total       0.97      0.98      0.97      8000\n",
      "\n"
     ]
    }
   ],
   "source": [
    "print \"Train Accuracy\"\n",
    "print accuracy_score(Y_train, y_knn5_train_pred)\n",
    "print classification_report(Y_train, y_knn5_train_pred)"
   ]
  },
  {
   "cell_type": "markdown",
   "metadata": {},
   "source": [
    "## With K = 7"
   ]
  },
  {
   "cell_type": "code",
   "execution_count": 124,
   "metadata": {},
   "outputs": [],
   "source": [
    "knn7 = KNN(n_neighbors=7)\n",
    "knn7.fit(X_train, Y_train)\n",
    "y_knn7_test_pred = knn7.predict(X_test)\n",
    "y_knn7_train_pred = knn7.predict(X_train)"
   ]
  },
  {
   "cell_type": "code",
   "execution_count": 125,
   "metadata": {},
   "outputs": [
    {
     "name": "stdout",
     "output_type": "stream",
     "text": [
      "Test Accuracy\n",
      "0.969\n",
      "             precision    recall  f1-score   support\n",
      "\n",
      "          0       0.97      1.00      0.98      1933\n",
      "          1       0.63      0.18      0.28        67\n",
      "\n",
      "avg / total       0.96      0.97      0.96      2000\n",
      "\n"
     ]
    }
   ],
   "source": [
    "print \"Test Accuracy\" \n",
    "print accuracy_score(Y_test, y_knn7_test_pred)\n",
    "print classification_report(Y_test, y_knn7_test_pred)"
   ]
  },
  {
   "cell_type": "code",
   "execution_count": 126,
   "metadata": {},
   "outputs": [
    {
     "name": "stdout",
     "output_type": "stream",
     "text": [
      "Train Accuracy\n",
      "0.972125\n",
      "             precision    recall  f1-score   support\n",
      "\n",
      "          0       0.97      1.00      0.99      7734\n",
      "          1       0.82      0.21      0.33       266\n",
      "\n",
      "avg / total       0.97      0.97      0.96      8000\n",
      "\n"
     ]
    }
   ],
   "source": [
    "print \"Train Accuracy\"\n",
    "print accuracy_score(Y_train, y_knn7_train_pred)\n",
    "print classification_report(Y_train, y_knn7_train_pred)"
   ]
  },
  {
   "cell_type": "markdown",
   "metadata": {
    "collapsed": true
   },
   "source": [
    "## With K = 10"
   ]
  },
  {
   "cell_type": "code",
   "execution_count": 127,
   "metadata": {
    "collapsed": true
   },
   "outputs": [],
   "source": [
    "knn10 = KNN(n_neighbors=10)\n",
    "knn10.fit(X_train, Y_train)\n",
    "y_knn10_test_pred = knn10.predict(X_test)\n",
    "y_knn10_train_pred = knn10.predict(X_train)"
   ]
  },
  {
   "cell_type": "code",
   "execution_count": 128,
   "metadata": {},
   "outputs": [
    {
     "name": "stdout",
     "output_type": "stream",
     "text": [
      "Test Accuracy\n",
      "0.9675\n",
      "             precision    recall  f1-score   support\n",
      "\n",
      "          0       0.97      1.00      0.98      1933\n",
      "          1       0.67      0.06      0.11        67\n",
      "\n",
      "avg / total       0.96      0.97      0.95      2000\n",
      "\n"
     ]
    }
   ],
   "source": [
    "print \"Test Accuracy\" \n",
    "print accuracy_score(Y_test, y_knn10_test_pred)\n",
    "print classification_report(Y_test, y_knn10_test_pred)"
   ]
  },
  {
   "cell_type": "code",
   "execution_count": 129,
   "metadata": {},
   "outputs": [
    {
     "name": "stdout",
     "output_type": "stream",
     "text": [
      "Train Accuracy\n",
      "0.9695\n",
      "             precision    recall  f1-score   support\n",
      "\n",
      "          0       0.97      1.00      0.98      7734\n",
      "          1       0.82      0.11      0.19       266\n",
      "\n",
      "avg / total       0.97      0.97      0.96      8000\n",
      "\n"
     ]
    }
   ],
   "source": [
    "print \"Train Accuracy\"\n",
    "print accuracy_score(Y_train, y_knn10_train_pred)\n",
    "print classification_report(Y_train, y_knn10_train_pred)"
   ]
  },
  {
   "cell_type": "markdown",
   "metadata": {},
   "source": [
    "# Quadritic Discriminant Analysis"
   ]
  },
  {
   "cell_type": "code",
   "execution_count": 130,
   "metadata": {
    "collapsed": true
   },
   "outputs": [],
   "source": [
    "from sklearn.discriminant_analysis import QuadraticDiscriminantAnalysis as QDA\n",
    "qd = QDA()\n",
    "qd.fit(X_train, Y_train)\n",
    "y_qd_test_pred = qd.predict(X_test)\n",
    "y_qd_train_pred = qd.predict(X_train)"
   ]
  },
  {
   "cell_type": "code",
   "execution_count": 131,
   "metadata": {},
   "outputs": [
    {
     "name": "stdout",
     "output_type": "stream",
     "text": [
      "Test Accuracy\n",
      "0.975\n",
      "             precision    recall  f1-score   support\n",
      "\n",
      "          0       0.98      1.00      0.99      1933\n",
      "          1       0.79      0.34      0.48        67\n",
      "\n",
      "avg / total       0.97      0.97      0.97      2000\n",
      "\n"
     ]
    }
   ],
   "source": [
    "print \"Test Accuracy\" \n",
    "print accuracy_score(Y_test, y_qd_test_pred)\n",
    "print classification_report(Y_test, y_qd_test_pred)"
   ]
  },
  {
   "cell_type": "code",
   "execution_count": 132,
   "metadata": {
    "scrolled": true
   },
   "outputs": [
    {
     "name": "stdout",
     "output_type": "stream",
     "text": [
      "Train Accuracy\n",
      "0.97275\n",
      "             precision    recall  f1-score   support\n",
      "\n",
      "          0       0.98      1.00      0.99      7734\n",
      "          1       0.74      0.28      0.40       266\n",
      "\n",
      "avg / total       0.97      0.97      0.97      8000\n",
      "\n"
     ]
    }
   ],
   "source": [
    "print \"Train Accuracy\"\n",
    "print accuracy_score(Y_train, y_qd_train_pred)\n",
    "print classification_report(Y_train, y_qd_train_pred)"
   ]
  },
  {
   "cell_type": "markdown",
   "metadata": {},
   "source": [
    "# h. Improving the test accuracy"
   ]
  },
  {
   "cell_type": "markdown",
   "metadata": {},
   "source": [
    "We can improve the test accuracy by employing 4 techniques, which are very commonly employed in machine learning:\n",
    "1) We can apply cross validation\n",
    "2) Change the threshold (Posterior probability)\n",
    "3) Dimensionality reduction/Feature Selection(we already have 2 dimensions)\n",
    "4) Regularization"
   ]
  },
  {
   "cell_type": "markdown",
   "metadata": {},
   "source": [
    "## K-Fold Cross-Validation"
   ]
  },
  {
   "cell_type": "code",
   "execution_count": 133,
   "metadata": {},
   "outputs": [
    {
     "name": "stdout",
     "output_type": "stream",
     "text": [
      "Test Accuracy\n",
      "0.973\n",
      "             precision    recall  f1-score   support\n",
      "\n",
      "          0       0.97      1.00      0.99      1933\n",
      "          1       0.81      0.25      0.39        67\n",
      "\n",
      "avg / total       0.97      0.97      0.97      2000\n",
      "\n"
     ]
    }
   ],
   "source": [
    "# larger k = less bias and more variance\n",
    "# smaller k = more bias, less variance\n",
    "from sklearn import cross_validation\n",
    "qdcv = QDA()\n",
    "# applying 10 fold cross-validation\n",
    "y_testcv_predicted = cross_validation.cross_val_predict(qdcv, X_test, Y_test, cv=10)\n",
    "print \"Test Accuracy\"\n",
    "print metrics.accuracy_score(Y_test, y_testcv_predicted)\n",
    "print classification_report(Y_test, y_testcv_predicted)"
   ]
  },
  {
   "cell_type": "code",
   "execution_count": 134,
   "metadata": {},
   "outputs": [
    {
     "name": "stdout",
     "output_type": "stream",
     "text": [
      "Test Accuracy\n",
      "0.9725\n",
      "             precision    recall  f1-score   support\n",
      "\n",
      "          0       0.97      1.00      0.99      1933\n",
      "          1       0.83      0.22      0.35        67\n",
      "\n",
      "avg / total       0.97      0.97      0.96      2000\n",
      "\n"
     ]
    }
   ],
   "source": [
    "# larger k = less bias and more variance\n",
    "# smaller k = more bias, less variance\n",
    "from sklearn import cross_validation\n",
    "ldcv = LDA()\n",
    "# applying 10 fold cross-validation\n",
    "y_testldcv_predicted = cross_validation.cross_val_predict(ldcv, X_test, Y_test, cv=10)\n",
    "print \"Test Accuracy\"\n",
    "print metrics.accuracy_score(Y_test, y_testldcv_predicted)\n",
    "print classification_report(Y_test, y_testldcv_predicted)"
   ]
  },
  {
   "cell_type": "markdown",
   "metadata": {},
   "source": [
    "We can see rather the accuracy has decreased in this case. So changing the posterior probability."
   ]
  },
  {
   "cell_type": "markdown",
   "metadata": {},
   "source": [
    "## Changing Posterior Probability"
   ]
  },
  {
   "cell_type": "code",
   "execution_count": 135,
   "metadata": {},
   "outputs": [
    {
     "name": "stdout",
     "output_type": "stream",
     "text": [
      "Test Accuracy\n",
      "0.9685\n",
      "             precision    recall  f1-score   support\n",
      "\n",
      "          0       0.97      1.00      0.98      1933\n",
      "          1       0.83      0.07      0.14        67\n",
      "\n",
      "avg / total       0.96      0.97      0.96      2000\n",
      "\n"
     ]
    }
   ],
   "source": [
    "qda2 = QDA().fit(X_train, Y_train)\n",
    "probs_positive_class = qda2.predict_proba(X_test)[:, 1]\n",
    "# say default is the positive class and we want to make few false positives\n",
    "test_qda_prediction = probs_positive_class > .7\n",
    "print \"Test Accuracy\"\n",
    "print metrics.accuracy_score(Y_test, test_qda_prediction)\n",
    "print classification_report(Y_test, test_qda_prediction)"
   ]
  },
  {
   "cell_type": "code",
   "execution_count": 136,
   "metadata": {},
   "outputs": [
    {
     "name": "stdout",
     "output_type": "stream",
     "text": [
      "Test Accuracy\n",
      "0.9715\n",
      "             precision    recall  f1-score   support\n",
      "\n",
      "          0       0.97      1.00      0.99      1933\n",
      "          1       0.81      0.19      0.31        67\n",
      "\n",
      "avg / total       0.97      0.97      0.96      2000\n",
      "\n"
     ]
    }
   ],
   "source": [
    "qda3 = QDA().fit(X_train, Y_train)\n",
    "probs_positive_class = qda3.predict_proba(X_test)[:, 1]\n",
    "# say default is the positive class and we want to make few false positives\n",
    "test_qda3_prediction = probs_positive_class > .6\n",
    "print \"Test Accuracy\"\n",
    "print metrics.accuracy_score(Y_test, test_qda3_prediction)\n",
    "print classification_report(Y_test, test_qda3_prediction)"
   ]
  },
  {
   "cell_type": "code",
   "execution_count": 137,
   "metadata": {
    "scrolled": true
   },
   "outputs": [
    {
     "name": "stdout",
     "output_type": "stream",
     "text": [
      "Test Accuracy\n",
      "0.9715\n",
      "             precision    recall  f1-score   support\n",
      "\n",
      "          0       0.97      1.00      0.99      1933\n",
      "          1       0.81      0.19      0.31        67\n",
      "\n",
      "avg / total       0.97      0.97      0.96      2000\n",
      "\n"
     ]
    }
   ],
   "source": [
    "lda2 = LDA().fit(X_train, Y_train)\n",
    "probs_positive_class = lda2.predict_proba(X_test)[:, 1]\n",
    "# say default is the positive class and we want to make few false positives\n",
    "test_lda2_prediction = probs_positive_class > .6\n",
    "print \"Test Accuracy\"\n",
    "print metrics.accuracy_score(Y_test, test_lda2_prediction)\n",
    "print classification_report(Y_test, test_lda2_prediction)"
   ]
  },
  {
   "cell_type": "code",
   "execution_count": 138,
   "metadata": {
    "scrolled": true
   },
   "outputs": [
    {
     "name": "stdout",
     "output_type": "stream",
     "text": [
      "Test Accuracy\n",
      "0.969\n",
      "             precision    recall  f1-score   support\n",
      "\n",
      "          0       0.97      1.00      0.98      1933\n",
      "          1       0.86      0.09      0.16        67\n",
      "\n",
      "avg / total       0.97      0.97      0.96      2000\n",
      "\n"
     ]
    }
   ],
   "source": [
    "lda3 = LDA().fit(X_train, Y_train)\n",
    "probs_positive_class = lda2.predict_proba(X_test)[:, 1]\n",
    "# say default is the positive class and we want to make few false positives\n",
    "test_lda3_prediction = probs_positive_class > .7\n",
    "print \"Test Accuracy\"\n",
    "print metrics.accuracy_score(Y_test, test_lda3_prediction)\n",
    "print classification_report(Y_test, test_lda3_prediction)"
   ]
  },
  {
   "cell_type": "markdown",
   "metadata": {},
   "source": [
    "Increasing the posterior probability or threshold does not offer us much in this case. Rather the test accuracy is decreased but not much, roughly it is the same. As can be seen in the lecture by Andrew Ng http://www.holehouse.org/mlclass/06_Logistic_Regression.html changing the posterior probability doesn't offer us much in true mathematical sense."
   ]
  },
  {
   "cell_type": "markdown",
   "metadata": {},
   "source": [
    "To end, we can employ regularization and other techniques like adding new parameters which may capture non-linear relationship between variables. We may also add some data which is not possible for this particular data-set. Further we can tune the algorithms based on particular solvers available in the scikit learn. If nothing works, we may also improve the algorithm and write our own specifically for the model we have."
   ]
  },
  {
   "cell_type": "code",
   "execution_count": null,
   "metadata": {
    "collapsed": true
   },
   "outputs": [],
   "source": []
  }
 ],
 "metadata": {
  "kernelspec": {
   "display_name": "Python 2",
   "language": "python",
   "name": "python2"
  },
  "language_info": {
   "codemirror_mode": {
    "name": "ipython",
    "version": 2
   },
   "file_extension": ".py",
   "mimetype": "text/x-python",
   "name": "python",
   "nbconvert_exporter": "python",
   "pygments_lexer": "ipython2",
   "version": "2.7.14"
  }
 },
 "nbformat": 4,
 "nbformat_minor": 2
}
